{
 "cells": [
  {
   "cell_type": "code",
   "execution_count": 12,
   "metadata": {},
   "outputs": [
    {
     "name": "stdout",
     "output_type": "stream",
     "text": [
      "Archivo de salida guardado como: Archivo2_20250327_231518.xlsx\n"
     ]
    }
   ],
   "source": [
    "import pandas as pd\n",
    "import datetime\n",
    "\n",
    "def eliminar_duplicados_perfiles(perfiles):\n",
    "    lista_perfiles = perfiles.split(\";\")\n",
    "    perfiles_unicos = []\n",
    "    \n",
    "    for perfil in lista_perfiles:\n",
    "        if perfil not in perfiles_unicos:\n",
    "            perfiles_unicos.append(perfil)\n",
    "    \n",
    "    return \";\".join(perfiles_unicos)\n",
    "\n",
    "def incluir_filas_en_archivo2(archivo1, archivo2, aplicativo_buscar):\n",
    "    df1 = pd.read_excel(archivo1, header=None)\n",
    "    df2 = pd.read_excel(archivo2, header=None)\n",
    "\n",
    "    filas_a_agregar = []\n",
    "\n",
    "    for rol_archivo1, perfil_archivo1 in zip(df1[0], df1[1]):\n",
    "        filas_rol_archivo2 = df2[df2[1] == rol_archivo1]\n",
    "\n",
    "        if not filas_rol_archivo2.empty:\n",
    "            aplicativos_existentes = filas_rol_archivo2[4].str.contains(\n",
    "                aplicativo_buscar, case=False, na=False\n",
    "            ).any()\n",
    "\n",
    "            if not aplicativos_existentes:\n",
    "                fila_base = filas_rol_archivo2.iloc[0].to_dict()\n",
    "\n",
    "                # Eliminar duplicados del perfil\n",
    "                perfil_unico = eliminar_duplicados_perfiles(perfil_archivo1)\n",
    "\n",
    "                nueva_fila = {\n",
    "                    1: fila_base[1],\n",
    "                    4: aplicativo_buscar,\n",
    "                    6: perfil_unico,  # Usar el perfil sin duplicados\n",
    "                }\n",
    "\n",
    "                for columna_index in [0, 2, 3, 5, 7, 8, 9, 10]:\n",
    "                    nueva_fila[columna_index] = fila_base.get(columna_index, None)\n",
    "\n",
    "                filas_a_agregar.append(nueva_fila)\n",
    "\n",
    "    df_resultado = pd.concat([df2, pd.DataFrame(filas_a_agregar)], ignore_index=True)\n",
    "\n",
    "    ahora = datetime.datetime.now()\n",
    "    nombre_archivo_salida = f\"{archivo2.split('.')[0]}_{ahora.strftime('%Y%m%d_%H%M%S')}.xlsx\"\n",
    "\n",
    "    df_resultado.to_excel(nombre_archivo_salida, index=False)\n",
    "    print(f\"Archivo de salida guardado como: {nombre_archivo_salida}\")\n",
    "\n",
    "if __name__ == \"__main__\":\n",
    "    archivo_con_rol_y_perfil = \"Archivo1.xlsx\"  # Nombre del archivo real: Archivo1.xlsx\n",
    "    catalogo_de_rol_sin_inclusion = \"Archivo2.xlsx\"  # Nombre del archivo real: Archivo2.xlsx\n",
    "    aplicativo_buscar = \"Active-Directory-Databricks\" # Nombre a aplicativo a buscar\n",
    "\n",
    "    incluir_filas_en_archivo2(archivo_con_rol_y_perfil, catalogo_de_rol_sin_inclusion, aplicativo_buscar)"
   ]
  }
 ],
 "metadata": {
  "kernelspec": {
   "display_name": "Python 3",
   "language": "python",
   "name": "python3"
  },
  "language_info": {
   "codemirror_mode": {
    "name": "ipython",
    "version": 3
   },
   "file_extension": ".py",
   "mimetype": "text/x-python",
   "name": "python",
   "nbconvert_exporter": "python",
   "pygments_lexer": "ipython3",
   "version": "3.11.2"
  }
 },
 "nbformat": 4,
 "nbformat_minor": 2
}
